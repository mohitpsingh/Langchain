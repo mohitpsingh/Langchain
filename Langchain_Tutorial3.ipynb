{
  "nbformat": 4,
  "nbformat_minor": 0,
  "metadata": {
    "colab": {
      "provenance": [],
      "authorship_tag": "ABX9TyMfxkaGhjznC7oLCWGTbzR+"
    },
    "kernelspec": {
      "name": "python3",
      "display_name": "Python 3"
    },
    "language_info": {
      "name": "python"
    }
  },
  "cells": [
    {
      "cell_type": "code",
      "execution_count": 1,
      "metadata": {
        "colab": {
          "base_uri": "https://localhost:8080/"
        },
        "id": "DStYWW30-hT5",
        "outputId": "9755e266-4749-4086-efff-475912d16cae"
      },
      "outputs": [
        {
          "output_type": "stream",
          "name": "stdout",
          "text": [
            "\u001b[?25l   \u001b[90m━━━━━━━━━━━━━━━━━━━━━━━━━━━━━━━━━━━━━━━━\u001b[0m \u001b[32m0.0/109.6 kB\u001b[0m \u001b[31m?\u001b[0m eta \u001b[36m-:--:--\u001b[0m\r\u001b[2K   \u001b[90m━━━━━━━━━━━━━━━━━━━━━━━━━━━━━━━━━━━━━━━━\u001b[0m \u001b[32m109.6/109.6 kB\u001b[0m \u001b[31m8.0 MB/s\u001b[0m eta \u001b[36m0:00:00\u001b[0m\n",
            "\u001b[?25h"
          ]
        }
      ],
      "source": [
        "%pip install -qU langchain-groq"
      ]
    },
    {
      "cell_type": "code",
      "source": [
        "import os\n",
        "\n",
        "os.environ[\"GROQ_API_KEY\"] = \"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\""
      ],
      "metadata": {
        "id": "AfKjL3r0_eLR"
      },
      "execution_count": 2,
      "outputs": []
    },
    {
      "cell_type": "markdown",
      "source": [
        "1. Here we Keeping the past history of our message.\n",
        "2. While loop will keep asking one after another until we give exit in the input body"
      ],
      "metadata": {
        "id": "y1syPDqoBPHq"
      }
    },
    {
      "cell_type": "code",
      "source": [
        "from langchain_groq import ChatGroq\n",
        "from langchain_core.messages import HumanMessage, AIMessage, SystemMessage\n",
        "\n",
        "chatModel = ChatGroq(\n",
        "    model=\"mixtral-8x7b-32768\",\n",
        "    temperature=0\n",
        ")\n",
        "\n",
        "chat_history = []\n",
        "\n",
        "system_message = SystemMessage(content=\"Act as a nutritionist.\")\n",
        "chat_history.append(system_message)\n",
        "\n",
        "while True:\n",
        "  query = input(\"User: \")\n",
        "  if query == \"exit\":\n",
        "    print(\"Exiting...\")\n",
        "    break\n",
        "  chat_history.append(HumanMessage(content=query))\n",
        "  response = chatModel.invoke(chat_history)\n",
        "  chat_history.append(AIMessage(content=response.content))\n",
        "  print(f\"Assistant: {response.content}\")"
      ],
      "metadata": {
        "colab": {
          "base_uri": "https://localhost:8080/"
        },
        "id": "r0XWoQiUACyu",
        "outputId": "f53c96d7-bb49-41d3-a53f-3c623a7ab306"
      },
      "execution_count": 6,
      "outputs": [
        {
          "output_type": "stream",
          "name": "stdout",
          "text": [
            "User: give me 2 veg pre-workout meal options based on indian diet.\n",
            "Assistant: Sure, I'd be happy to help! Here are two vegetarian pre-workout meal options based on Indian diet:\n",
            "\n",
            "1. Spinach and Tofu Scramble:\n",
            "* 1 cup of spinach, chopped\n",
            "* 100 grams of firm tofu, crumbled\n",
            "* 1/2 tsp of turmeric powder\n",
            "* 1/2 tsp of cumin powder\n",
            "* 1/2 tsp of coriander powder\n",
            "* Salt to taste\n",
            "* 1 tsp of olive oil\n",
            "\n",
            "Heat the olive oil in a pan and add the spices. Sauté for a few seconds and then add the chopped spinach. Cook until the spinach wilts. Add the crumbled tofu and mix well. Cook for a few more minutes and add salt to taste. This dish is high in protein and iron, which can help fuel your workout.\n",
            "\n",
            "2. Roasted Chickpea Salad:\n",
            "* 1 cup of cooked chickpeas\n",
            "* 1/2 cup of chopped cucumber\n",
            "* 1/2 cup of chopped tomato\n",
            "* 1/4 cup of chopped red onion\n",
            "* 1/4 cup of chopped cilantro\n",
            "* 1 tbsp of lemon juice\n",
            "* 1 tbsp of olive oil\n",
            "* Salt and pepper to taste\n",
            "\n",
            "Toss all the ingredients together in a bowl. This salad is high in fiber and complex carbohydrates, which can provide sustained energy during your workout.\n",
            "\n",
            "Remember, it's important to eat a meal that sits well with your stomach and doesn't cause any discomfort during your workout. It's also recommended to eat your pre-workout meal 1-2 hours before your workout to allow for proper digestion.\n",
            "User: exit\n",
            "Exiting...\n"
          ]
        }
      ]
    }
  ]
}