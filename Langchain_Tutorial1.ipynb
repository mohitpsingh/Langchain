{
  "nbformat": 4,
  "nbformat_minor": 0,
  "metadata": {
    "colab": {
      "provenance": [],
      "authorship_tag": "ABX9TyNuJHg9asZ9haKsKYUocwzo",
      "include_colab_link": true
    },
    "kernelspec": {
      "name": "python3",
      "display_name": "Python 3"
    },
    "language_info": {
      "name": "python"
    }
  },
  "cells": [
    {
      "cell_type": "markdown",
      "metadata": {
        "id": "view-in-github",
        "colab_type": "text"
      },
      "source": [
        "<a href=\"https://colab.research.google.com/github/mohitpsingh/Langchain/blob/feature%2Fchatbot_tutorial/Langchain_Tutorial1.ipynb\" target=\"_parent\"><img src=\"https://colab.research.google.com/assets/colab-badge.svg\" alt=\"Open In Colab\"/></a>"
      ]
    },
    {
      "cell_type": "markdown",
      "source": [
        "### Installed the Langchain integrated groq package  "
      ],
      "metadata": {
        "id": "LTJhhNMAgVQw"
      }
    },
    {
      "cell_type": "code",
      "source": [
        "%pip install -qU langchain-groq"
      ],
      "metadata": {
        "colab": {
          "base_uri": "https://localhost:8080/"
        },
        "id": "gM4J4wv9Z5AB",
        "outputId": "ecb866f4-aa86-43e4-e0bd-10b392d493c9"
      },
      "execution_count": null,
      "outputs": [
        {
          "output_type": "stream",
          "name": "stdout",
          "text": [
            "\u001b[?25l   \u001b[90m━━━━━━━━━━━━━━━━━━━━━━━━━━━━━━━━━━━━━━━━\u001b[0m \u001b[32m0.0/109.5 kB\u001b[0m \u001b[31m?\u001b[0m eta \u001b[36m-:--:--\u001b[0m\r\u001b[2K   \u001b[90m━━━━━━━━━━━━━━━━━━━━━━━━━━━━━━━━━━━━━━━━\u001b[0m \u001b[32m109.5/109.5 kB\u001b[0m \u001b[31m3.3 MB/s\u001b[0m eta \u001b[36m0:00:00\u001b[0m\n",
            "\u001b[?25h"
          ]
        }
      ]
    },
    {
      "cell_type": "markdown",
      "source": [
        "### Added the API key for accessing the Chatbot"
      ],
      "metadata": {
        "id": "vJCvic0cgoV3"
      }
    },
    {
      "cell_type": "code",
      "execution_count": null,
      "metadata": {
        "id": "cG25a4e8ZIRL"
      },
      "outputs": [],
      "source": [
        "import os\n",
        "\n",
        "os.environ[\"GROQ_API_KEY\"] = \"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\""
      ]
    },
    {
      "cell_type": "markdown",
      "source": [
        "1. Import the ChatGroq Class that allow to define the model property and behaviour\n",
        "2. invoke() method responsable for making the call to model by passing the request (message) which returns us the output."
      ],
      "metadata": {
        "id": "U72xu2oXgup1"
      }
    },
    {
      "cell_type": "code",
      "source": [
        "from langchain_groq import ChatGroq\n",
        "\n",
        "chatModel = ChatGroq(\n",
        "    model=\"mixtral-8x7b-32768\",\n",
        "    temperature=0\n",
        ")\n",
        "\n",
        "aiMessage = chatModel.invoke(\"What is Langchain?\")\n",
        "print(aiMessage.content)"
      ],
      "metadata": {
        "colab": {
          "base_uri": "https://localhost:8080/"
        },
        "id": "KqeAwsbUaHTh",
        "outputId": "143a1b35-b2f7-4d59-9977-ea7791b3e96f"
      },
      "execution_count": 6,
      "outputs": [
        {
          "output_type": "stream",
          "name": "stdout",
          "text": [
            "I'm sorry for any confusion, but \"Langchain\" does not appear to be a widely known or established term in the fields of language, technology, or blockchain. It's possible that you may be referring to a specific project or product that is not widely recognized.\n",
            "\n",
            "If you could provide more context or clarify what you mean by \"Langchain,\" I would be happy to try to provide a more accurate and helpful response.\n"
          ]
        }
      ]
    }
  ]
}